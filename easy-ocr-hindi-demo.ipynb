{
 "cells": [
  {
   "cell_type": "code",
   "execution_count": 1,
   "metadata": {
    "colab": {},
    "colab_type": "code",
    "id": "gGnaQzjyhxhu"
   },
   "outputs": [
    {
     "name": "stdout",
     "output_type": "stream",
     "text": [
      "Requirement already satisfied: easyocr in c:\\users\\moham\\appdata\\local\\programs\\python\\python37\\lib\\site-packages (1.3.2)\n",
      "Requirement already satisfied: numpy in c:\\users\\moham\\appdata\\local\\programs\\python\\python37\\lib\\site-packages (from easyocr) (1.19.5)\n",
      "Requirement already satisfied: torch in c:\\users\\moham\\appdata\\local\\programs\\python\\python37\\lib\\site-packages (from easyocr) (1.9.0)\n",
      "Requirement already satisfied: Pillow in c:\\users\\moham\\appdata\\local\\programs\\python\\python37\\lib\\site-packages (from easyocr) (8.2.0)\n",
      "Requirement already satisfied: opencv-python in c:\\users\\moham\\appdata\\local\\programs\\python\\python37\\lib\\site-packages (from easyocr) (4.5.2.54)\n",
      "Requirement already satisfied: python-bidi in c:\\users\\moham\\appdata\\local\\programs\\python\\python37\\lib\\site-packages (from easyocr) (0.4.2)\n",
      "Requirement already satisfied: scikit-image in c:\\users\\moham\\appdata\\local\\programs\\python\\python37\\lib\\site-packages (from easyocr) (0.18.2)\n",
      "Requirement already satisfied: scipy in c:\\users\\moham\\appdata\\local\\programs\\python\\python37\\lib\\site-packages (from easyocr) (1.7.0)\n",
      "Requirement already satisfied: PyYAML in c:\\users\\moham\\appdata\\local\\programs\\python\\python37\\lib\\site-packages (from easyocr) (5.4.1)\n",
      "Requirement already satisfied: torchvision>=0.5 in c:\\users\\moham\\appdata\\local\\programs\\python\\python37\\lib\\site-packages (from easyocr) (0.10.0)\n",
      "Requirement already satisfied: typing-extensions in c:\\users\\moham\\appdata\\local\\programs\\python\\python37\\lib\\site-packages (from torch->easyocr) (3.7.4.3)\n",
      "Requirement already satisfied: six in c:\\users\\moham\\appdata\\local\\programs\\python\\python37\\lib\\site-packages (from python-bidi->easyocr) (1.15.0)\n",
      "Requirement already satisfied: tifffile>=2019.7.26 in c:\\users\\moham\\appdata\\local\\programs\\python\\python37\\lib\\site-packages (from scikit-image->easyocr) (2021.6.14)\n",
      "Requirement already satisfied: matplotlib!=3.0.0,>=2.0.0 in c:\\users\\moham\\appdata\\local\\programs\\python\\python37\\lib\\site-packages (from scikit-image->easyocr) (3.4.2)\n",
      "Requirement already satisfied: PyWavelets>=1.1.1 in c:\\users\\moham\\appdata\\local\\programs\\python\\python37\\lib\\site-packages (from scikit-image->easyocr) (1.1.1)\n",
      "Requirement already satisfied: networkx>=2.0 in c:\\users\\moham\\appdata\\local\\programs\\python\\python37\\lib\\site-packages (from scikit-image->easyocr) (2.5.1)\n",
      "Requirement already satisfied: imageio>=2.3.0 in c:\\users\\moham\\appdata\\local\\programs\\python\\python37\\lib\\site-packages (from scikit-image->easyocr) (2.9.0)\n",
      "Requirement already satisfied: python-dateutil>=2.7 in c:\\users\\moham\\appdata\\local\\programs\\python\\python37\\lib\\site-packages (from matplotlib!=3.0.0,>=2.0.0->scikit-image->easyocr) (2.8.1)\n",
      "Requirement already satisfied: kiwisolver>=1.0.1 in c:\\users\\moham\\appdata\\local\\programs\\python\\python37\\lib\\site-packages (from matplotlib!=3.0.0,>=2.0.0->scikit-image->easyocr) (1.3.1)\n",
      "Requirement already satisfied: cycler>=0.10 in c:\\users\\moham\\appdata\\local\\programs\\python\\python37\\lib\\site-packages (from matplotlib!=3.0.0,>=2.0.0->scikit-image->easyocr) (0.10.0)\n",
      "Requirement already satisfied: pyparsing>=2.2.1 in c:\\users\\moham\\appdata\\local\\programs\\python\\python37\\lib\\site-packages (from matplotlib!=3.0.0,>=2.0.0->scikit-image->easyocr) (2.4.7)\n",
      "Requirement already satisfied: decorator<5,>=4.3 in c:\\users\\moham\\appdata\\local\\programs\\python\\python37\\lib\\site-packages (from networkx>=2.0->scikit-image->easyocr) (4.4.2)\n"
     ]
    }
   ],
   "source": [
    "!pip install easyocr"
   ]
  },
  {
   "cell_type": "code",
   "execution_count": 2,
   "metadata": {
    "colab": {},
    "colab_type": "code",
    "id": "WOxu3m1aq8gC"
   },
   "outputs": [],
   "source": [
    "import matplotlib.pyplot as plt\n",
    "import cv2\n",
    "import easyocr\n",
    "from pylab import rcParams\n",
    "from IPython.display import Image"
   ]
  },
  {
   "cell_type": "code",
   "execution_count": 3,
   "metadata": {
    "colab": {},
    "colab_type": "code",
    "id": "-1pDu5xk-YXD"
   },
   "outputs": [],
   "source": [
    "rcParams['figure.figsize'] = 8, 16"
   ]
  },
  {
   "cell_type": "code",
   "execution_count": 4,
   "metadata": {
    "colab": {},
    "colab_type": "code",
    "id": "KFceePJoh8tW"
   },
   "outputs": [
    {
     "name": "stderr",
     "output_type": "stream",
     "text": [
      "CUDA not available - defaulting to CPU. Note: This module is much faster with a GPU.\n",
      "Downloading detection model, please wait. This may take several minutes depending upon your network connection.\n"
     ]
    },
    {
     "name": "stdout",
     "output_type": "stream",
     "text": [
      "Progress: |██████████████████████████████████████████████████| 100.0% Complete\r"
     ]
    },
    {
     "name": "stderr",
     "output_type": "stream",
     "text": [
      "Downloading recognition model, please wait. This may take several minutes depending upon your network connection.\n"
     ]
    },
    {
     "name": "stdout",
     "output_type": "stream",
     "text": [
      "Progress: |██████████████████████████████████████████████████| 100.0% Complete\r"
     ]
    }
   ],
   "source": [
    "reader = easyocr.Reader(['en', 'hi'])"
   ]
  },
  {
   "cell_type": "code",
   "execution_count": null,
   "metadata": {
    "colab": {},
    "colab_type": "code",
    "id": "1AMZ27DJ-j6Q"
   },
   "outputs": [],
   "source": [
    "file_name = \"Image.jpg\""
   ]
  },
  {
   "cell_type": "code",
   "execution_count": null,
   "metadata": {
    "colab": {},
    "colab_type": "code",
    "id": "xeIFHSo4rgb3"
   },
   "outputs": [],
   "source": [
    "Image(file_name)"
   ]
  },
  {
   "cell_type": "code",
   "execution_count": null,
   "metadata": {
    "colab": {},
    "colab_type": "code",
    "id": "OTAtJVfWiAmY"
   },
   "outputs": [],
   "source": [
    "output = reader.readtext(file_name)"
   ]
  },
  {
   "cell_type": "code",
   "execution_count": null,
   "metadata": {
    "colab": {},
    "colab_type": "code",
    "id": "a3ExixuoohLq"
   },
   "outputs": [],
   "source": [
    "output"
   ]
  },
  {
   "cell_type": "code",
   "execution_count": null,
   "metadata": {
    "colab": {},
    "colab_type": "code",
    "id": "WOlAD5h5ojmY"
   },
   "outputs": [],
   "source": [
    "cord = output[4][0]"
   ]
  },
  {
   "cell_type": "code",
   "execution_count": null,
   "metadata": {
    "colab": {},
    "colab_type": "code",
    "id": "2rLxzJE8pa-D"
   },
   "outputs": [],
   "source": [
    "x_min, y_min = [int(min(idx)) for idx in zip(*cord)]"
   ]
  },
  {
   "cell_type": "code",
   "execution_count": null,
   "metadata": {
    "colab": {},
    "colab_type": "code",
    "id": "IknlzdtNopOS"
   },
   "outputs": [],
   "source": [
    "x_max, y_max = [int(max(idx)) for idx in zip(*cord)]"
   ]
  },
  {
   "cell_type": "code",
   "execution_count": null,
   "metadata": {
    "colab": {},
    "colab_type": "code",
    "id": "Z596GplWiSbr"
   },
   "outputs": [],
   "source": [
    "image = cv2.imread(file_name)\n",
    "cv2.rectangle(image,(x_min,y_min),(x_max,y_max),(255,0,0),2)\n",
    "plt.imshow(cv2.cvtColor(image, cv2.COLOR_BGR2RGB))"
   ]
  },
  {
   "cell_type": "code",
   "execution_count": null,
   "metadata": {
    "colab": {},
    "colab_type": "code",
    "id": "I8AaVEuIyIWd"
   },
   "outputs": [],
   "source": []
  }
 ],
 "metadata": {
  "accelerator": "GPU",
  "colab": {
   "collapsed_sections": [],
   "name": "easy-ocr-demo-hindi.ipynb",
   "provenance": []
  },
  "kernelspec": {
   "display_name": "Python 3",
   "language": "python",
   "name": "python3"
  },
  "language_info": {
   "codemirror_mode": {
    "name": "ipython",
    "version": 3
   },
   "file_extension": ".py",
   "mimetype": "text/x-python",
   "name": "python",
   "nbconvert_exporter": "python",
   "pygments_lexer": "ipython3",
   "version": "3.7.9"
  }
 },
 "nbformat": 4,
 "nbformat_minor": 4
}
